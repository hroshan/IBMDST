{
 "cells": [
  {
   "cell_type": "markdown",
   "id": "12741f0a-0c89-4be2-accf-27de8cb0a703",
   "metadata": {},
   "source": [
    "# Data Science Tools and Ecosystem"
   ]
  },
  {
   "cell_type": "markdown",
   "id": "2e7ec656-ebf9-425d-89f7-26042b324ee7",
   "metadata": {},
   "source": [
    "In this notebook, Data Science Tools and Ecosystem are summarized."
   ]
  },
  {
   "cell_type": "markdown",
   "id": "3c93cb5c-c49a-4ca0-bc20-43b8521e1b2c",
   "metadata": {},
   "source": [
    "**Objectives:**\n",
    "- List popular languages for Data Science\n",
    "- List popular libraries for Data Science\n",
    "- List popular development environments for Data Science\n",
    "- Execute simple arithmetic expressions"
   ]
  },
  {
   "cell_type": "markdown",
   "id": "ec8cd74c-8714-4e31-89eb-934872d26b05",
   "metadata": {},
   "source": [
    "Some of the popular languages that Data Scientists use are:\n",
    "1. Python\n",
    "2. R\n",
    "3. SQL"
   ]
  },
  {
   "cell_type": "markdown",
   "id": "b38dc5aa-f582-44f8-991a-e0ad5ddf8878",
   "metadata": {},
   "source": [
    "Some of the commonly used libraries used by Data Scientists include:\n",
    "1. NumPy\n",
    "2. Plotly\n",
    "3. ggplot\n",
    "4. Pandas\n",
    "5. Vegas"
   ]
  },
  {
   "cell_type": "markdown",
   "id": "749893ff-975a-46e8-8f9c-330b60a925b3",
   "metadata": {},
   "source": [
    "| Data Science Tools |\n",
    "| ----|\n",
    "| Jupyter |\n",
    "| R-Studio |\n",
    "| Spyder |"
   ]
  },
  {
   "cell_type": "markdown",
   "id": "b3526827-614d-4e52-964c-1c10b69ba659",
   "metadata": {
    "tags": []
   },
   "source": [
    "### Below are a few examples of evaluating arithmetic expressions in Python."
   ]
  },
  {
   "cell_type": "code",
   "execution_count": 8,
   "id": "3c13dd69-4304-40b1-929d-f82c5df757c5",
   "metadata": {
    "tags": []
   },
   "outputs": [
    {
     "data": {
      "text/plain": [
       "17"
      ]
     },
     "execution_count": 8,
     "metadata": {},
     "output_type": "execute_result"
    }
   ],
   "source": [
    "# This is a simple arithmetic expression to mutiply then add integers.\n",
    "(3*4)+5"
   ]
  },
  {
   "cell_type": "code",
   "execution_count": 9,
   "id": "c027a12a-3358-4198-a12d-945ecc1fe5d4",
   "metadata": {
    "tags": []
   },
   "outputs": [
    {
     "data": {
      "text/plain": [
       "3.3333333333333335"
      ]
     },
     "execution_count": 9,
     "metadata": {},
     "output_type": "execute_result"
    }
   ],
   "source": [
    "# This will convert 200 minutes tohours by diving by 60.\n",
    "200/60"
   ]
  },
  {
   "cell_type": "markdown",
   "id": "8899750e-fde2-4445-ba65-22157f7b0525",
   "metadata": {
    "tags": []
   },
   "source": [
    "## Author\n",
    "Hasan Roshan"
   ]
  }
 ],
 "metadata": {
  "kernelspec": {
   "display_name": "Python",
   "language": "python",
   "name": "conda-env-python-py"
  },
  "language_info": {
   "codemirror_mode": {
    "name": "ipython",
    "version": 3
   },
   "file_extension": ".py",
   "mimetype": "text/x-python",
   "name": "python",
   "nbconvert_exporter": "python",
   "pygments_lexer": "ipython3",
   "version": "3.7.12"
  }
 },
 "nbformat": 4,
 "nbformat_minor": 5
}
